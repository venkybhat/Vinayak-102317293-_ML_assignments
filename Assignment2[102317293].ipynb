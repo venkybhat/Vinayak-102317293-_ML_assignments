{
  "nbformat": 4,
  "nbformat_minor": 0,
  "metadata": {
    "colab": {
      "provenance": []
    },
    "kernelspec": {
      "name": "python3",
      "display_name": "Python 3"
    },
    "language_info": {
      "name": "python"
    }
  },
  "cells": [
    {
      "cell_type": "markdown",
      "source": [
        "Q1.Based on Feature Selection, Cleaning, and Preprocessing to Construct an Input from Data Source\n",
        "(a) Examine the values of each attribute and Select a set of attributes only that would affect to predict future bike buyers to create your input for data mining algorithms. Remove all the unnecessary attributes. (Select features just by analysis).\n",
        "\n",
        "(b) Create a new Data Frame with the selected attributes only.\n",
        "\n",
        "(c) Determine a Data value type (Discrete, or Continuous, then Nominal, Ordinal, Interval, Ratio) of each attribute in your selection to identify preprocessing tasks to create input for your data mining.\n"
      ],
      "metadata": {
        "id": "iAWm57TyScwG"
      }
    },
    {
      "cell_type": "code",
      "execution_count": 12,
      "metadata": {
        "colab": {
          "base_uri": "https://localhost:8080/"
        },
        "id": "wUlE-gpcSRsF",
        "outputId": "17e2e2a8-bbed-48ac-d06d-6acae292d132"
      },
      "outputs": [
        {
          "output_type": "stream",
          "name": "stdout",
          "text": [
            "<bound method NDFrame.head of        CustomerID Title FirstName MiddleName  LastName Suffix  \\\n",
            "0           21173   NaN      Chad          C      Yuan    NaN   \n",
            "1           13249   NaN      Ryan        NaN     Perry    NaN   \n",
            "2           29350   NaN     Julia        NaN  Thompson    NaN   \n",
            "3           13503   NaN  Theodore        NaN     Gomez    NaN   \n",
            "4           22803   NaN  Marshall          J      Shan    NaN   \n",
            "...           ...   ...       ...        ...       ...    ...   \n",
            "18356       25414   NaN     Grace          C    Bailey    NaN   \n",
            "18357       11459   NaN     Tasha        NaN      Deng    NaN   \n",
            "18358       12160   NaN    Jaclyn        NaN     Zhang    NaN   \n",
            "18359       14353   NaN      Erin          I      Reed    NaN   \n",
            "18360       16676   NaN    Amanda        NaN     Perry    NaN   \n",
            "\n",
            "                 AddressLine1 AddressLine2            City  \\\n",
            "0          7090 C. Mount Hood          NaN      Wollongong   \n",
            "1         3651 Willow Lake Rd          NaN         Shawnee   \n",
            "2      1774 Tice Valley Blvd.          NaN     West Covina   \n",
            "3             2103 Baldwin Dr          NaN       Liverpool   \n",
            "4             Am Gallberg 234          NaN           Werne   \n",
            "...                       ...          ...             ...   \n",
            "18356      6627 Camelback Ct.          NaN        Coronado   \n",
            "18357         9627 Kendall Rd          NaN  Port Macquarie   \n",
            "18358       4364 Viera Avenue          NaN       Beaverton   \n",
            "18359  3866 Mt. Everest Court          NaN       Vancouver   \n",
            "18360     7870 Orangewood Dr.          NaN       Grossmont   \n",
            "\n",
            "         StateProvinceName  ...        Education      Occupation Gender  \\\n",
            "0          New South Wales  ...        Bachelors        Clerical      M   \n",
            "1         British Columbia  ...  Partial College        Clerical      M   \n",
            "2               California  ...        Bachelors        Clerical      F   \n",
            "3                  England  ...  Partial College  Skilled Manual      M   \n",
            "4      Nordrhein-Westfalen  ...  Partial College  Skilled Manual      M   \n",
            "...                    ...  ...              ...             ...    ...   \n",
            "18356           California  ...  Graduate Degree  Skilled Manual      F   \n",
            "18357      New South Wales  ...        Bachelors  Skilled Manual      F   \n",
            "18358               Oregon  ...  Partial College  Skilled Manual      F   \n",
            "18359     British Columbia  ...      High School        Clerical      F   \n",
            "18360           California  ...  Graduate Degree    Professional      F   \n",
            "\n",
            "      MaritalStatus HomeOwnerFlag NumberCarsOwned NumberChildrenAtHome  \\\n",
            "0                 M             1               3                    0   \n",
            "1                 M             1               2                    1   \n",
            "2                 S             0               3                    0   \n",
            "3                 M             1               2                    1   \n",
            "4                 S             1               1                    0   \n",
            "...             ...           ...             ...                  ...   \n",
            "18356             M             0               1                    0   \n",
            "18357             S             0               2                    0   \n",
            "18358             S             0               2                    0   \n",
            "18359             S             0               0                    0   \n",
            "18360             M             1               2                    0   \n",
            "\n",
            "      TotalChildren  YearlyIncome  LastUpdated  \n",
            "0                 1         81916   2017-03-06  \n",
            "1                 2         81076   2017-03-06  \n",
            "2                 0         86387   2017-03-06  \n",
            "3                 2         61481   2017-03-06  \n",
            "4                 0         51804   2017-03-06  \n",
            "...             ...           ...          ...  \n",
            "18356             2         52953   2017-03-06  \n",
            "18357             0         60992   2017-03-06  \n",
            "18358             0         51859   2017-03-06  \n",
            "18359             0         87177   2017-03-06  \n",
            "18360             0        136856   2017-03-06  \n",
            "\n",
            "[18361 rows x 24 columns]>\n",
            "  Gender MaritalStatus  Age        Education  HomeOwnerFlag  NumberCarsOwned  \\\n",
            "0      M             M   38        Bachelors              1                3   \n",
            "1      M             M   53  Partial College              1                2   \n",
            "2      F             S   40        Bachelors              0                3   \n",
            "3      M             M   48  Partial College              1                2   \n",
            "4      M             S   50  Partial College              1                1   \n",
            "\n",
            "   NumberChildrenAtHome  TotalChildren  YearlyIncome  BikeBuyer  \n",
            "0                     0              1         81916          1  \n",
            "1                     1              2         81076          1  \n",
            "2                     0              0         86387          1  \n",
            "3                     1              2         61481          1  \n",
            "4                     0              0         51804          1  \n"
          ]
        }
      ],
      "source": [
        "import pandas as pd\n",
        "from datetime import datetime\n",
        "from sklearn.preprocessing import MaxAbsScaler\n",
        "df_frame=pd.read_csv('AWCustomers.csv')\n",
        "print(df_frame.head)\n",
        "sales=pd.read_csv('AWSales.csv')\n",
        "merged_dataset=pd.merge(df_frame,sales,on='CustomerID')\n",
        "merged_dataset['BirthDate']=pd.to_datetime(merged_dataset['BirthDate'],errors='coerce')\n",
        "merged_dataset['Age']=datetime.now().year-merged_dataset['BirthDate'].dt.year\n",
        "new_columns=[\n",
        "    'Gender',\n",
        "    'MaritalStatus',\n",
        "    'Age',\n",
        "    'Education',\n",
        "    'HomeOwnerFlag',\n",
        "    'NumberCarsOwned',\n",
        "    'NumberChildrenAtHome',\n",
        "    'TotalChildren',\n",
        "    'YearlyIncome',\n",
        "    'BikeBuyer'\n",
        "]\n",
        "new_data=merged_dataset[new_columns]\n",
        "print(new_data.head())\n"
      ]
    },
    {
      "cell_type": "markdown",
      "source": [
        "Q2) Depending on the data type of each attribute, transform each object from your preprocessed data.\n",
        "Use all the data rows (~= 18000 rows) with the selected features as input to apply all the tasks below, do not perform each task on the smaller data set that you got from your random sampling result.\n",
        "\n",
        "(a) Handling Null values\n",
        "\n",
        "(b) Normalization\n",
        "\n",
        "(c) Discretization (Binning) on Continuous attributes or Categorical Attributes with too many different values\n",
        "\n",
        "(d) Standardization/Normalization\n",
        "\n",
        "(e) Binarization (One Hot Encoding)"
      ],
      "metadata": {
        "id": "Pg-P6BXNYIJh"
      }
    },
    {
      "cell_type": "code",
      "source": [
        "new_df=merged_dataset[new_columns]\n",
        "print(new_df.head())\n",
        "\n",
        "print(new_df.isnull().sum())\n",
        "new_df=new_df.dropna()\n",
        "\n",
        "cols=['Age','YearlyIncome','TotalChildren']\n",
        "scaler=MaxAbsScaler()\n",
        "scaled=scaler.fit_transform(new_df[cols])\n",
        "new_df[cols]=pd.DataFrame(scaled,columns=cols,index=new_df.index)\n",
        "\n",
        "new_df['AgeGroup']=pd.cut(\n",
        "    new_df['Age'],\n",
        "    bins=[0,0.3,0.6,1],\n",
        "    labels=['Young','Middle-Aged','Senior']\n",
        ")\n",
        "\n",
        "from sklearn.preprocessing import StandardScaler\n",
        "col=['NumberCarsOwned','NumberChildrenAtHome']\n",
        "scaler2=StandardScaler()\n",
        "new_df[col]=scaler2.fit_transform(new_df[col])\n",
        "\n",
        "final_df=pd.get_dummies(new_df,columns=['Gender','MaritalStatus','Education','AgeGroup'])\n",
        "print(final_df.head())\n",
        "\n"
      ],
      "metadata": {
        "colab": {
          "base_uri": "https://localhost:8080/"
        },
        "id": "BH-wvVvGYH2e",
        "outputId": "74a711cf-7047-4e99-b6ac-75551e028e79"
      },
      "execution_count": 13,
      "outputs": [
        {
          "output_type": "stream",
          "name": "stdout",
          "text": [
            "  Gender MaritalStatus  Age        Education  HomeOwnerFlag  NumberCarsOwned  \\\n",
            "0      M             M   38        Bachelors              1                3   \n",
            "1      M             M   53  Partial College              1                2   \n",
            "2      F             S   40        Bachelors              0                3   \n",
            "3      M             M   48  Partial College              1                2   \n",
            "4      M             S   50  Partial College              1                1   \n",
            "\n",
            "   NumberChildrenAtHome  TotalChildren  YearlyIncome  BikeBuyer  \n",
            "0                     0              1         81916          1  \n",
            "1                     1              2         81076          1  \n",
            "2                     0              0         86387          1  \n",
            "3                     1              2         61481          1  \n",
            "4                     0              0         51804          1  \n",
            "Gender                  0\n",
            "MaritalStatus           0\n",
            "Age                     0\n",
            "Education               0\n",
            "HomeOwnerFlag           0\n",
            "NumberCarsOwned         0\n",
            "NumberChildrenAtHome    0\n",
            "TotalChildren           0\n",
            "YearlyIncome            0\n",
            "BikeBuyer               0\n",
            "dtype: int64\n",
            "        Age  HomeOwnerFlag  NumberCarsOwned  NumberChildrenAtHome  \\\n",
            "0  0.400000              1         1.892524             -0.594371   \n",
            "1  0.557895              1         0.798389              1.163279   \n",
            "2  0.421053              0         1.892524             -0.594371   \n",
            "3  0.505263              1         0.798389              1.163279   \n",
            "4  0.526316              1        -0.295746             -0.594371   \n",
            "\n",
            "   TotalChildren  YearlyIncome  BikeBuyer  Gender_F  Gender_M  \\\n",
            "0       0.333333      0.588837          1     False      True   \n",
            "1       0.666667      0.582798          1     False      True   \n",
            "2       0.000000      0.620975          1      True     False   \n",
            "3       0.666667      0.441944          1     False      True   \n",
            "4       0.000000      0.372383          1     False      True   \n",
            "\n",
            "   MaritalStatus_M  MaritalStatus_S  Education_Bachelors  \\\n",
            "0             True            False                 True   \n",
            "1             True            False                False   \n",
            "2            False             True                 True   \n",
            "3             True            False                False   \n",
            "4            False             True                False   \n",
            "\n",
            "   Education_Graduate Degree  Education_High School  \\\n",
            "0                      False                  False   \n",
            "1                      False                  False   \n",
            "2                      False                  False   \n",
            "3                      False                  False   \n",
            "4                      False                  False   \n",
            "\n",
            "   Education_Partial College  Education_Partial High School  AgeGroup_Young  \\\n",
            "0                      False                          False           False   \n",
            "1                       True                          False           False   \n",
            "2                      False                          False           False   \n",
            "3                       True                          False           False   \n",
            "4                       True                          False           False   \n",
            "\n",
            "   AgeGroup_Middle-Aged  AgeGroup_Senior  \n",
            "0                  True            False  \n",
            "1                  True            False  \n",
            "2                  True            False  \n",
            "3                  True            False  \n",
            "4                  True            False  \n"
          ]
        }
      ]
    },
    {
      "cell_type": "markdown",
      "source": [
        "Q3)Make sure each attribute is transformed in a same scale for numeric attributes and Binarization for each nominal attribute, and each discretized numeric attribute to standardization. Make sure to apply a correct similarity measure for nominal (one hot encoding)/binary attributes and numeric attributes respectively.\n",
        "\n",
        "(a) Calculate Similarity in Simple Matching, Jaccard Similarity, and Cosine Similarity between two following objects of your transformed input data.\n",
        "\n",
        "(b) Calculate Correlation between two features Commute Distance and Yearly Income\n"
      ],
      "metadata": {
        "id": "kHsMn3p-W3F1"
      }
    },
    {
      "cell_type": "code",
      "source": [
        "from sklearn.metrics.pairwise import cosine_similarity\n",
        "import numpy as np\n",
        "\n",
        "row1 = final_df.iloc[0]\n",
        "row2 = final_df.iloc[1]\n",
        "arr1 = row1.values\n",
        "arr2 = row2.values\n",
        "\n",
        "same_vals = np.sum(arr1 == arr2)\n",
        "total_vals = len(arr1)\n",
        "smc_val = same_vals / total_vals\n",
        "print(smc_val)\n",
        "\n",
        "common_ones = np.sum((arr1 == 1) & (arr2 == 1))\n",
        "union_ones = np.sum((arr1 == 1) | (arr2 == 1))\n",
        "jacc_val = common_ones / union_ones\n",
        "print(jacc_val)\n",
        "\n",
        "cos_val = cosine_similarity([arr1], [arr2])\n",
        "print(cos_val)\n"
      ],
      "metadata": {
        "colab": {
          "base_uri": "https://localhost:8080/"
        },
        "id": "PBRC2p7IW-qt",
        "outputId": "26c9a6ea-bfe9-4e0b-dd10-7cad641df50b"
      },
      "execution_count": 14,
      "outputs": [
        {
          "output_type": "stream",
          "name": "stdout",
          "text": [
            "0.631578947368421\n",
            "0.7142857142857143\n",
            "[[0.67485062]]\n"
          ]
        }
      ]
    }
  ]
}